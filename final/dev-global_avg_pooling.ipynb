{
 "cells": [
  {
   "cell_type": "code",
   "execution_count": 2,
   "metadata": {},
   "outputs": [],
   "source": [
    "import os\n",
    "os.environ['CUDA_VISIBLE_DEVICES']='0'\n",
    "import time\n",
    "import numpy as np\n",
    "import tensorflow as tf\n",
    "from VGG16_GAP import VGG16_GAP\n",
    "from VGG16_flatten import VGG16_flatten"
   ]
  },
  {
   "cell_type": "code",
   "execution_count": 3,
   "metadata": {},
   "outputs": [],
   "source": [
    "import numpy as np\n",
    "import pandas as pd\n",
    "import skimage.io as imageio\n",
    "import pickle"
   ]
  },
  {
   "cell_type": "code",
   "execution_count": 4,
   "metadata": {},
   "outputs": [],
   "source": [
    "from progress.bar import Bar\n",
    "from ipywidgets import IntProgress\n",
    "from IPython.display import display"
   ]
  },
  {
   "cell_type": "code",
   "execution_count": 5,
   "metadata": {},
   "outputs": [],
   "source": [
    "with open('save/label_dict.pkl', 'rb') as f:\n",
    "    y_dict = pickle.load(f)"
   ]
  },
  {
   "cell_type": "code",
   "execution_count": 6,
   "metadata": {},
   "outputs": [],
   "source": [
    "HOME_DIR = \"/home/cmchang/DLCV2018SPRING/final/\"\n",
    "TRAIN_DIR = HOME_DIR+\"dlcv_final_2_dataset/train/\"\n",
    "VALID_DIR = HOME_DIR+\"dlcv_final_2_dataset/val/\""
   ]
  },
  {
   "cell_type": "code",
   "execution_count": 7,
   "metadata": {},
   "outputs": [],
   "source": [
    "dtrain = pd.read_csv(HOME_DIR+\"dlcv_final_2_dataset/train_id.txt\", header=None,sep=\" \", names=[\"img\", \"id\"])\n",
    "dvalid = pd.read_csv(HOME_DIR+\"dlcv_final_2_dataset/val_id.txt\", header=None,sep=\" \", names=[\"img\", \"id\"])"
   ]
  },
  {
   "cell_type": "code",
   "execution_count": 8,
   "metadata": {},
   "outputs": [],
   "source": [
    "train_list = list(TRAIN_DIR+dtrain.img)\n",
    "valid_list = list(VALID_DIR+dvalid.img)"
   ]
  },
  {
   "cell_type": "code",
   "execution_count": 9,
   "metadata": {},
   "outputs": [],
   "source": [
    "def readImgList(file_list):\n",
    "    images = list()\n",
    "    for i, file in enumerate(file_list):\n",
    "        print(i, end=\"\\r\")\n",
    "        img = imageio.imread(file)\n",
    "        img = img.astype(int)\n",
    "        images.append(img)\n",
    "    return np.array(images)"
   ]
  },
  {
   "cell_type": "code",
   "execution_count": 10,
   "metadata": {},
   "outputs": [],
   "source": [
    "def transformLabel(id_list, y_dict):\n",
    "    label = list()\n",
    "    for uid in list(id_list):\n",
    "        label.append(y_dict[uid])\n",
    "    return np.array(label)"
   ]
  },
  {
   "cell_type": "code",
   "execution_count": 11,
   "metadata": {},
   "outputs": [],
   "source": [
    "def one_hot_encoding(class_numbers, num_classes):\n",
    "    return np.eye(num_classes, dtype=float)[class_numbers]"
   ]
  },
  {
   "cell_type": "code",
   "execution_count": 12,
   "metadata": {},
   "outputs": [],
   "source": [
    "def initialize_uninitialized(sess):\n",
    "    global_vars = tf.global_variables()\n",
    "    is_not_initialized = sess.run([tf.is_variable_initialized(var) for var in global_vars])\n",
    "    not_initialized_vars = [v for (v,f) in zip(global_vars, is_not_initialized) if not f]\n",
    "    if len(not_initialized_vars): \n",
    "            sess.run(tf.variables_initializer(not_initialized_vars))"
   ]
  },
  {
   "cell_type": "code",
   "execution_count": 13,
   "metadata": {},
   "outputs": [
    {
     "name": "stdout",
     "output_type": "stream",
     "text": [
      "56474\r"
     ]
    }
   ],
   "source": [
    "Xtrain = readImgList(train_list)"
   ]
  },
  {
   "cell_type": "code",
   "execution_count": 14,
   "metadata": {},
   "outputs": [
    {
     "name": "stdout",
     "output_type": "stream",
     "text": [
      "7210\r"
     ]
    }
   ],
   "source": [
    "Xvalid = readImgList(valid_list)"
   ]
  },
  {
   "cell_type": "code",
   "execution_count": 15,
   "metadata": {},
   "outputs": [
    {
     "data": {
      "text/plain": [
       "(56475, 218, 178, 3)"
      ]
     },
     "execution_count": 15,
     "metadata": {},
     "output_type": "execute_result"
    }
   ],
   "source": [
    "Xtrain.shape"
   ]
  },
  {
   "cell_type": "code",
   "execution_count": 16,
   "metadata": {},
   "outputs": [],
   "source": [
    "ytrain = transformLabel(list(dtrain.id), y_dict)"
   ]
  },
  {
   "cell_type": "code",
   "execution_count": 17,
   "metadata": {},
   "outputs": [],
   "source": [
    "yvalid = transformLabel(list(dvalid.id), y_dict)"
   ]
  },
  {
   "cell_type": "code",
   "execution_count": 18,
   "metadata": {},
   "outputs": [],
   "source": [
    "Ytrain = one_hot_encoding(ytrain, len(y_dict))\n",
    "Yvalid = one_hot_encoding(yvalid, len(y_dict))"
   ]
  },
  {
   "cell_type": "code",
   "execution_count": 19,
   "metadata": {},
   "outputs": [],
   "source": [
    "scope_name = \"Model\""
   ]
  },
  {
   "cell_type": "code",
   "execution_count": 20,
   "metadata": {},
   "outputs": [],
   "source": [
    "model = VGG16_GAP(scope_name=scope_name)"
   ]
  },
  {
   "cell_type": "code",
   "execution_count": 21,
   "metadata": {},
   "outputs": [],
   "source": [
    "FLAG_init_from = HOME_DIR+\"rescale0-1_save_all-one/para_dict.npy\"\n",
    "FLAG_prof_type = \"linear\"\n",
    "FLAG_lambda_s = 4e-3\n",
    "FLAG_lambda_m = 4e-5\n",
    "FLAG_decay = 1e-5\n",
    "FLAG_lr = 2e-4\n",
    "FLAG_keep_prob = 1.0\n",
    "FLAG_save_dir = HOME_DIR+\"finetune_gap_v6_rescale0-1_save_linear/\""
   ]
  },
  {
   "cell_type": "code",
   "execution_count": 22,
   "metadata": {},
   "outputs": [
    {
     "name": "stdout",
     "output_type": "stream",
     "text": [
      "build model started\n",
      "npy file loaded\n",
      "build model finished: 1s\n"
     ]
    }
   ],
   "source": [
    "model.build(vgg16_npy_path=FLAG_init_from,\n",
    "            shape=Xtrain.shape[1:],\n",
    "            classes=len(y_dict),\n",
    "            prof_type=FLAG_prof_type,\n",
    "            conv_pre_training=True,\n",
    "            fc_pre_training=False,\n",
    "            new_bn=True)"
   ]
  },
  {
   "cell_type": "code",
   "execution_count": 23,
   "metadata": {},
   "outputs": [
    {
     "name": "stdout",
     "output_type": "stream",
     "text": [
      "[None, 218, 178, 3]\n",
      "[None, 218, 178, 64]\n",
      "AFTER [None, 218, 178, 64]\n",
      "[None, 109, 89, 64]\n",
      "AFTER [None, 109, 89, 64]\n",
      "[None, 109, 89, 128]\n",
      "AFTER [None, 109, 89, 128]\n",
      "[None, 55, 45, 128]\n",
      "AFTER [None, 55, 45, 128]\n",
      "[None, 55, 45, 256]\n",
      "AFTER [None, 55, 45, 256]\n",
      "[None, 55, 45, 256]\n",
      "AFTER [None, 55, 45, 256]\n",
      "[None, 28, 23, 256]\n",
      "AFTER [None, 28, 23, 256]\n",
      "[None, 28, 23, 512]\n",
      "AFTER [None, 28, 23, 512]\n",
      "[None, 28, 23, 512]\n",
      "AFTER [None, 28, 23, 512]\n",
      "[None, 14, 12, 512]\n",
      "AFTER [None, 14, 12, 512]\n",
      "[None, 14, 12, 512]\n",
      "AFTER [None, 14, 12, 512]\n",
      "[None, 14, 12, 512]\n",
      "AFTER [None, 14, 12, 512]\n",
      "sparsity train operation setup: 2s\n"
     ]
    }
   ],
   "source": [
    "model.sparsity_train(l1_gamma=FLAG_lambda_s, l1_gamma_diff=FLAG_lambda_m, decay=FLAG_decay, keep_prob=FLAG_keep_prob)"
   ]
  },
  {
   "cell_type": "code",
   "execution_count": null,
   "metadata": {},
   "outputs": [],
   "source": [
    "import imgaug as ia\n",
    "from imgaug import augmenters as iaa\n",
    "sometimes = lambda aug: iaa.Sometimes(0.5, aug)\n",
    "transform = iaa.Sequential([\n",
    "    sometimes(iaa.Affine(translate_percent={\"x\": (-0.15, 0.15), \"y\": (-0.15, 0.15)})),\n",
    "    sometimes(iaa.Affine(scale={\"x\": (0.85, 1.15), \"y\":(0.85, 1.15)})),\n",
    "    sometimes(iaa.Affine(rotate=(-45, 45))),\n",
    "    sometimes(iaa.Fliplr(0.5))\n",
    "])"
   ]
  },
  {
   "cell_type": "code",
   "execution_count": null,
   "metadata": {},
   "outputs": [
    {
     "name": "stdout",
     "output_type": "stream",
     "text": [
      "===== create directory =====\n",
      "['var_dp']\n"
     ]
    },
    {
     "data": {
      "application/vnd.jupyter.widget-view+json": {
       "model_id": "9a31a464b7f44276889382f864bcd183",
       "version_major": 2,
       "version_minor": 0
      },
      "text/html": [
       "<p>Failed to display Jupyter Widget of type <code>IntProgress</code>.</p>\n",
       "<p>\n",
       "  If you're reading this message in Jupyter Notebook or JupyterLab, it may mean\n",
       "  that the widgets JavaScript is still loading. If this message persists, it\n",
       "  likely means that the widgets JavaScript library is either not installed or\n",
       "  not enabled. See the <a href=\"https://ipywidgets.readthedocs.io/en/stable/user_install.html\">Jupyter\n",
       "  Widgets Documentation</a> for setup instructions.\n",
       "</p>\n",
       "<p>\n",
       "  If you're reading this message in another notebook frontend (for example, a static\n",
       "  rendering on GitHub or <a href=\"https://nbviewer.jupyter.org/\">NBViewer</a>),\n",
       "  it may mean that your frontend doesn't currently support widgets.\n",
       "</p>\n"
      ],
      "text/plain": [
       "IntProgress(value=0)"
      ]
     },
     "metadata": {},
     "output_type": "display_data"
    },
    {
     "data": {
      "application/vnd.jupyter.widget-view+json": {
       "model_id": "d26b7e1335ce407982ce235714cc7c2e",
       "version_major": 2,
       "version_minor": 0
      },
      "text/html": [
       "<p>Failed to display Jupyter Widget of type <code>IntProgress</code>.</p>\n",
       "<p>\n",
       "  If you're reading this message in Jupyter Notebook or JupyterLab, it may mean\n",
       "  that the widgets JavaScript is still loading. If this message persists, it\n",
       "  likely means that the widgets JavaScript library is either not installed or\n",
       "  not enabled. See the <a href=\"https://ipywidgets.readthedocs.io/en/stable/user_install.html\">Jupyter\n",
       "  Widgets Documentation</a> for setup instructions.\n",
       "</p>\n",
       "<p>\n",
       "  If you're reading this message in another notebook frontend (for example, a static\n",
       "  rendering on GitHub or <a href=\"https://nbviewer.jupyter.org/\">NBViewer</a>),\n",
       "  it may mean that your frontend doesn't currently support widgets.\n",
       "</p>\n"
      ],
      "text/plain": [
       "IntProgress(value=0)"
      ]
     },
     "metadata": {},
     "output_type": "display_data"
    },
    {
     "name": "stdout",
     "output_type": "stream",
     "text": [
      "initial spareness: 0.023200758\n",
      "Finished epoch.\n",
      "\n",
      "spareness: 0.10298295\n",
      "save in /home/cmchang/DLCV2018SPRING/final/finetune_gap_v6_rescale0-1_save_linear/para_dict.npy\n",
      "Epoch 1 (0), 870.89 sec >> train loss: 22.8758, train accu: 0.0153, val loss: 22.2443, val accu at var_dp: 0.0006\n",
      "Finished epoch.\n",
      "\n",
      "spareness: 0.17163825\n",
      "save in /home/cmchang/DLCV2018SPRING/final/finetune_gap_v6_rescale0-1_save_linear/para_dict.npy\n",
      "Epoch 2 (0), 843.66 sec >> train loss: 19.1484, train accu: 0.0843, val loss: 17.7496, val accu at var_dp: 0.0847\n",
      "Finished epoch.\n",
      "\n",
      "spareness: 0.23011364\n",
      "save in /home/cmchang/DLCV2018SPRING/final/finetune_gap_v6_rescale0-1_save_linear/para_dict.npy\n",
      "Epoch 3 (0), 846.48 sec >> train loss: 16.0170, train accu: 0.2065, val loss: 15.3415, val accu at var_dp: 0.1521\n",
      "Finished epoch.\n",
      "\n",
      "spareness: 0.273911\n",
      "save in /home/cmchang/DLCV2018SPRING/final/finetune_gap_v6_rescale0-1_save_linear/para_dict.npy\n",
      "Epoch 4 (0), 845.74 sec >> train loss: 13.6009, train accu: 0.3325, val loss: 13.4661, val accu at var_dp: 0.1773\n",
      "Finished epoch.\n",
      "\n",
      "spareness: 0.3108428\n",
      "save in /home/cmchang/DLCV2018SPRING/final/finetune_gap_v6_rescale0-1_save_linear/para_dict.npy\n",
      "Epoch 5 (0), 844.87 sec >> train loss: 11.7160, train accu: 0.4391, val loss: 11.3394, val accu at var_dp: 0.3691\n",
      "Finished epoch.\n",
      "\n",
      "spareness: 0.33735797\n",
      "Epoch 6 (1), 843.71 sec >> train loss: 10.2643, train accu: 0.5174, val loss: 10.5408, val accu at var_dp: 0.3373\n",
      "Finished epoch.\n",
      "\n",
      "spareness: 0.36197916\n",
      "save in /home/cmchang/DLCV2018SPRING/final/finetune_gap_v6_rescale0-1_save_linear/para_dict.npy\n",
      "Epoch 7 (0), 899.23 sec >> train loss: 9.1337, train accu: 0.5755, val loss: 9.3650, val accu at var_dp: 0.4146\n",
      "Finished epoch.\n",
      "\n",
      "spareness: 0.37926137\n",
      "save in /home/cmchang/DLCV2018SPRING/final/finetune_gap_v6_rescale0-1_save_linear/para_dict.npy\n",
      "Epoch 8 (0), 844.25 sec >> train loss: 8.2444, train accu: 0.6221, val loss: 8.5039, val accu at var_dp: 0.4763\n",
      "Finished epoch.\n",
      "\n",
      "spareness: 0.3955966\n",
      "Epoch 9 (1), 856.69 sec >> train loss: 7.4991, train accu: 0.6611, val loss: 8.2554, val accu at var_dp: 0.4156\n",
      "Finished epoch.\n",
      "\n",
      "spareness: 0.40814394\n",
      "save in /home/cmchang/DLCV2018SPRING/final/finetune_gap_v6_rescale0-1_save_linear/para_dict.npy\n",
      "Epoch 10 (0), 845.38 sec >> train loss: 6.9008, train accu: 0.6869, val loss: 7.2398, val accu at var_dp: 0.5481\n",
      "Finished epoch.\n",
      "\n",
      "spareness: 0.41927084\n",
      "save in /home/cmchang/DLCV2018SPRING/final/finetune_gap_v6_rescale0-1_save_linear/para_dict.npy\n",
      "Epoch 11 (0), 983.14 sec >> train loss: 6.3837, train accu: 0.7082, val loss: 6.8085, val accu at var_dp: 0.5551\n",
      "Finished epoch.\n",
      "\n",
      "spareness: 0.42874053\n",
      "Epoch 12 (1), 849.56 sec >> train loss: 5.9238, train accu: 0.7320, val loss: 6.5061, val accu at var_dp: 0.5455\n",
      "Finished epoch.\n",
      "\n",
      "spareness: 0.4353693\n",
      "save in /home/cmchang/DLCV2018SPRING/final/finetune_gap_v6_rescale0-1_save_linear/para_dict.npy\n",
      "Epoch 13 (0), 1000.75 sec >> train loss: 5.5394, train accu: 0.7465, val loss: 6.0622, val accu at var_dp: 0.5674\n",
      "Finished epoch.\n",
      "\n",
      "spareness: 0.44649622\n",
      "save in /home/cmchang/DLCV2018SPRING/final/finetune_gap_v6_rescale0-1_save_linear/para_dict.npy\n",
      "Epoch 14 (0), 846.24 sec >> train loss: 5.1780, train accu: 0.7657, val loss: 5.6564, val accu at var_dp: 0.6158\n",
      "Finished epoch.\n",
      "\n",
      "spareness: 0.4552557\n",
      "Epoch 15 (1), 984.85 sec >> train loss: 4.8759, train accu: 0.7771, val loss: 5.6716, val accu at var_dp: 0.5550\n",
      "Finished epoch.\n",
      "\n",
      "spareness: 0.46496212\n",
      "save in /home/cmchang/DLCV2018SPRING/final/finetune_gap_v6_rescale0-1_save_linear/para_dict.npy\n",
      "Epoch 16 (0), 847.48 sec >> train loss: 4.6046, train accu: 0.7887, val loss: 5.1042, val accu at var_dp: 0.6405\n",
      "Finished epoch.\n",
      "\n",
      "spareness: 0.47253788\n",
      "Epoch 17 (1), 1002.06 sec >> train loss: 4.3637, train accu: 0.7991, val loss: 4.9465, val accu at var_dp: 0.6237\n",
      "Finished epoch.\n",
      "\n",
      "spareness: 0.48177084\n",
      "save in /home/cmchang/DLCV2018SPRING/final/finetune_gap_v6_rescale0-1_save_linear/para_dict.npy\n",
      "Epoch 18 (0), 851.05 sec >> train loss: 4.1426, train accu: 0.8083, val loss: 4.6902, val accu at var_dp: 0.6528\n",
      "Finished epoch.\n",
      "\n",
      "spareness: 0.49029356\n",
      "Epoch 19 (1), 983.87 sec >> train loss: 3.9418, train accu: 0.8183, val loss: 4.6015, val accu at var_dp: 0.6376\n",
      "Finished epoch.\n",
      "\n",
      "spareness: 0.49928978\n",
      "save in /home/cmchang/DLCV2018SPRING/final/finetune_gap_v6_rescale0-1_save_linear/para_dict.npy\n",
      "Epoch 20 (0), 846.64 sec >> train loss: 3.7662, train accu: 0.8271, val loss: 4.2982, val accu at var_dp: 0.6745\n",
      "Finished epoch.\n",
      "\n",
      "spareness: 0.5056818\n",
      "Epoch 21 (1), 993.23 sec >> train loss: 3.5975, train accu: 0.8362, val loss: 4.4203, val accu at var_dp: 0.6219\n",
      "Finished epoch.\n",
      "\n",
      "spareness: 0.51491475\n",
      "Epoch 22 (2), 844.15 sec >> train loss: 3.4470, train accu: 0.8446, val loss: 4.0695, val accu at var_dp: 0.6733\n",
      "Finished epoch.\n",
      "\n",
      "spareness: 0.5269886\n",
      "save in /home/cmchang/DLCV2018SPRING/final/finetune_gap_v6_rescale0-1_save_linear/para_dict.npy\n",
      "Epoch 23 (0), 981.9 sec >> train loss: 3.3181, train accu: 0.8476, val loss: 3.8340, val accu at var_dp: 0.7122\n",
      "Finished epoch.\n",
      "\n",
      "spareness: 0.5381155\n",
      "Epoch 24 (1), 846.55 sec >> train loss: 3.1889, train accu: 0.8569, val loss: 3.8100, val accu at var_dp: 0.6942\n",
      "Finished epoch.\n",
      "\n",
      "spareness: 0.54758525\n",
      "Epoch 25 (2), 979.72 sec >> train loss: 3.0800, train accu: 0.8624, val loss: 3.7408, val accu at var_dp: 0.6973\n",
      "Finished epoch.\n",
      "\n",
      "spareness: 0.5587121\n",
      "Epoch 26 (3), 844.3 sec >> train loss: 2.9675, train accu: 0.8675, val loss: 3.7420, val accu at var_dp: 0.6751\n",
      "Finished epoch.\n",
      "\n",
      "spareness: 0.5693655\n",
      "Epoch 27 (4), 988.16 sec >> train loss: 2.8766, train accu: 0.8730, val loss: 3.5341, val accu at var_dp: 0.7035\n",
      "Finished epoch.\n",
      "\n",
      "spareness: 0.5785985\n",
      "Epoch 28 (5), 842.24 sec >> train loss: 2.7882, train accu: 0.8772, val loss: 3.5105, val accu at var_dp: 0.6920\n",
      "Finished epoch.\n",
      "\n",
      "spareness: 0.5897254\n",
      "Epoch 29 (6), 995.76 sec >> train loss: 2.7034, train accu: 0.8807, val loss: 3.3728, val accu at var_dp: 0.7076\n",
      "Finished epoch.\n",
      "\n",
      "spareness: 0.6003788\n",
      "save in /home/cmchang/DLCV2018SPRING/final/finetune_gap_v6_rescale0-1_save_linear/para_dict.npy\n",
      "Epoch 30 (0), 838.6 sec >> train loss: 2.6175, train accu: 0.8863, val loss: 3.2669, val accu at var_dp: 0.7268\n",
      "Finished epoch.\n",
      "\n",
      "spareness: 0.6136364\n",
      "Epoch 31 (1), 971.14 sec >> train loss: 2.5375, train accu: 0.8942, val loss: 3.2771, val accu at var_dp: 0.7143\n",
      "Finished epoch.\n",
      "\n",
      "spareness: 0.6276042\n",
      "Epoch 32 (2), 840.42 sec >> train loss: 2.4673, train accu: 0.8970, val loss: 3.3536, val accu at var_dp: 0.6816\n",
      "Finished epoch.\n",
      "\n",
      "spareness: 0.63778406\n",
      "Epoch 33 (3), 972.54 sec >> train loss: 2.4159, train accu: 0.8979, val loss: 3.2367, val accu at var_dp: 0.6952\n",
      "Finished epoch.\n",
      "\n",
      "spareness: 0.647964\n",
      "save in /home/cmchang/DLCV2018SPRING/final/finetune_gap_v6_rescale0-1_save_linear/para_dict.npy\n",
      "Epoch 34 (0), 840.93 sec >> train loss: 2.3504, train accu: 0.9044, val loss: 3.0448, val accu at var_dp: 0.7303\n",
      "Finished epoch.\n",
      "\n",
      "spareness: 0.6614583\n",
      "Epoch 35 (1), 969.28 sec >> train loss: 2.3003, train accu: 0.9049, val loss: 3.1058, val accu at var_dp: 0.7130\n",
      "Finished epoch.\n",
      "\n",
      "spareness: 0.67732006\n",
      "Epoch 36 (2), 837.94 sec >> train loss: 2.2359, train accu: 0.9103, val loss: 3.0689, val accu at var_dp: 0.7160\n",
      "Finished epoch.\n",
      "\n",
      "spareness: 0.6917614\n",
      "save in /home/cmchang/DLCV2018SPRING/final/finetune_gap_v6_rescale0-1_save_linear/para_dict.npy\n",
      "Epoch 37 (0), 974.27 sec >> train loss: 2.1924, train accu: 0.9124, val loss: 2.9294, val accu at var_dp: 0.7306\n"
     ]
    }
   ],
   "source": [
    "print(\"===== create directory =====\")\n",
    "if not os.path.exists(FLAG_save_dir):\n",
    "    os.makedirs(FLAG_save_dir)\n",
    "\n",
    "arr_spareness = []\n",
    "\n",
    "# define tasks\n",
    "tasks = ['var_dp']\n",
    "print(tasks)\n",
    "\n",
    "# initial task\n",
    "cur_task = tasks[0]\n",
    "obj = model.loss_dict[tasks[0]]\n",
    "\n",
    "with tf.Session() as sess:\n",
    "    sess.run(tf.global_variables_initializer())\n",
    "\n",
    "   # hyper parameters\n",
    "    batch_size = 64\n",
    "    epoch = 100\n",
    "    early_stop_patience = 10\n",
    "    min_delta = 0.0001\n",
    "    opt_type = 'adam'\n",
    "\n",
    "    # recorder\n",
    "    epoch_counter = 0\n",
    "    history = list()\n",
    "\n",
    "    # optimizer\n",
    "    global_step = tf.Variable(0, trainable=False)\n",
    "\n",
    "    # Passing global_step to minimize() will increment it at each step.\n",
    "    learning_rate = FLAG_lr\n",
    "    opt = tf.train.AdamOptimizer(learning_rate=learning_rate, beta1=0.5)\n",
    "\n",
    "    checkpoint_path = os.path.join(FLAG_save_dir, 'model.ckpt')\n",
    "    tvars_trainable = tf.trainable_variables()\n",
    "\n",
    "    train_vars = list()\n",
    "    for var in tf.trainable_variables():\n",
    "        if model.scope_name in var.name:\n",
    "            train_vars.append(var)\n",
    "            \n",
    "    train_op = opt.minimize(obj, global_step=global_step, var_list=tvars_trainable)\n",
    "    \n",
    "    saver = tf.train.Saver(tf.global_variables(), max_to_keep=len(tasks))\n",
    "\n",
    "    # progress bar\n",
    "    ptrain = IntProgress()\n",
    "    pval = IntProgress()\n",
    "    display(ptrain)\n",
    "    display(pval)\n",
    "    ptrain.max = int(Xtrain.shape[0]/batch_size)\n",
    "    pval.max = int(Xvalid.shape[0]/batch_size)\n",
    "\n",
    "    spareness = model.spareness(thresh=0.05)\n",
    "    print(\"initial spareness: %s\" % sess.run(spareness))\n",
    "\n",
    "    # re-initialize\n",
    "    initialize_uninitialized(sess)\n",
    "\n",
    "    # reset due to adding a new task\n",
    "    patience_counter = 0\n",
    "    current_best_val_accu = 0\n",
    "\n",
    "    # optimize when the aggregated obj\n",
    "    while(patience_counter < early_stop_patience and epoch_counter < epoch):\n",
    "\n",
    "        def load_batches():\n",
    "            for i in range(int(Xtrain.shape[0]/batch_size)):\n",
    "                st = i*batch_size\n",
    "                ed = (i+1)*batch_size\n",
    "                batch = ia.Batch(images=Xtrain[st:ed,:,:,:], data=Ytrain[st:ed,:])\n",
    "                yield batch\n",
    "\n",
    "        batch_loader = ia.BatchLoader(load_batches)\n",
    "        bg_augmenter = ia.BackgroundAugmenter(batch_loader=batch_loader, augseq=transform, nb_workers=1)\n",
    "\n",
    "        # start training\n",
    "        stime = time.time()\n",
    "        bar_train = Bar('Training', max=int(Xtrain.shape[0]/batch_size), suffix='%(index)d/%(max)d - %(percent).1f%% - %(eta)ds')\n",
    "        bar_val =  Bar('Validation', max=int(Xvalid.shape[0]/batch_size), suffix='%(index)d/%(max)d - %(percent).1f%% - %(eta)ds')\n",
    "        train_loss, train_accu = 0.0, 0.0\n",
    "        while True:\n",
    "            batch = bg_augmenter.get_batch()\n",
    "            if batch is None:\n",
    "                print(\"Finished epoch.\")\n",
    "                break\n",
    "            x_images_aug = batch.images_aug\n",
    "            y_images = batch.data\n",
    "            loss, accu, _ = sess.run([obj, model.accu_dict[cur_task], train_op], feed_dict={model.x: x_images_aug,\n",
    "                            model.y: y_images,\n",
    "                            model.is_train: True})\n",
    "            bar_train.next()\n",
    "            train_loss += loss\n",
    "            train_accu += accu\n",
    "            ptrain.value +=1\n",
    "            ptrain.description = \"Training %s/%s\" % (ptrain.value, ptrain.max)\n",
    "        train_loss = train_loss/ptrain.value\n",
    "        train_accu = train_accu/ptrain.value\n",
    "        batch_loader.terminate()\n",
    "        bg_augmenter.terminate()\n",
    "\n",
    "        # validation\n",
    "        val_loss = 0\n",
    "        val_accu = 0\n",
    "        for i in range(int(Xvalid.shape[0]/batch_size)):\n",
    "            st = i*batch_size\n",
    "            ed = (i+1)*batch_size\n",
    "            loss, accu = sess.run([obj, model.accu_dict[cur_task]],\n",
    "                                feed_dict={model.x: Xvalid[st:ed,:],\n",
    "                                            model.y: Yvalid[st:ed,:],\n",
    "                                            model.is_train: False})\n",
    "            val_loss += loss\n",
    "            val_accu += accu\n",
    "            pval.value += 1\n",
    "            pval.description = \"Testing %s/%s\" % (pval.value, pval.value)\n",
    "        val_loss = val_loss/pval.value\n",
    "        val_accu = val_accu/pval.value\n",
    "\n",
    "        print(\"\\nspareness: %s\" % sess.run(spareness))\n",
    "        # early stopping check\n",
    "        if (val_accu - current_best_val_accu) > min_delta:\n",
    "            current_best_val_accu = val_accu\n",
    "            patience_counter = 0\n",
    "\n",
    "            para_dict = sess.run(model.para_dict)\n",
    "            np.save(os.path.join(FLAG_save_dir, \"para_dict.npy\"), para_dict)\n",
    "            print(\"save in %s\" % os.path.join(FLAG_save_dir, \"para_dict.npy\"))\n",
    "        else:\n",
    "            patience_counter += 1\n",
    "\n",
    "        # shuffle Xtrain and Ytrain in the next epoch\n",
    "        idx = np.random.permutation(Xtrain.shape[0])\n",
    "        Xtrain, Ytrain = Xtrain[idx,:,:,:], Ytrain[idx,:]\n",
    "\n",
    "        # epoch end\n",
    "        # writer.add_summary(epoch_summary, epoch_counter)\n",
    "        epoch_counter += 1\n",
    "\n",
    "        ptrain.value = 0\n",
    "        pval.value = 0\n",
    "        bar_train.finish()\n",
    "        bar_val.finish()\n",
    "\n",
    "        print(\"Epoch %s (%s), %s sec >> train loss: %.4f, train accu: %.4f, val loss: %.4f, val accu at %s: %.4f\" % (epoch_counter, patience_counter, round(time.time()-stime,2), train_loss, train_accu, val_loss, cur_task, val_accu))\n",
    "        history.append([train_loss, train_accu, val_loss, val_accu ])\n",
    "        \n",
    "        if epoch_counter % 10 == 0:\n",
    "            import matplotlib.pyplot as plt\n",
    "            df = pd.DataFrame(history)\n",
    "            df.columns = ['train_loss', 'train_accu', 'val_loss', 'val_accu']\n",
    "            df[['train_loss', 'val_loss']].plot()\n",
    "            plt.savefig(os.path.join(FLAG_save_dir, 'loss.png'))\n",
    "            df[['train_accu', 'val_accu']].plot()\n",
    "            plt.savefig(os.path.join(FLAG_save_dir, 'accu.png'))\n",
    "            \n",
    "    saver.save(sess, checkpoint_path, global_step=epoch_counter)\n",
    "\n",
    "    #sp, rcut = gammaSparsifyVGG16(para_dict, thresh=0.02)\n",
    "    #np.save(os.path.join(FLAG_save_dir,\"sparse_dict.npy\"), sp)\n",
    "    #print(\"sparsify %s in %s\" % (np.round(1-rcut,3), os.path.join(FLAG_save_dir, \"sparse_dict.npy\")))\n",
    "\n",
    "    #writer.close()\n",
    "    #arr_spareness.append(1-rcut)\n",
    "    #np.save(os.path.join(FLAG_save_dir,\"sprocess.npy\"), arr_spareness)\n",
    "# FLAG_optimizer = opt_type\n",
    "# FLAG_lr = start_learning_rate\n",
    "# FLAG_batch_size = batch_size\n",
    "# FLAG_epoch_end = epoch_counter\n",
    "# FLAG_val_accu = current_best_val_accu\n",
    "\n",
    "# header = ''\n",
    "# row = ''\n",
    "# for key in sorted(vars(FLAG)):\n",
    "#     if header is '':\n",
    "#         header = key\n",
    "#         row = str(getattr(FLAG, key))\n",
    "#     else:\n",
    "#         header += \",\"+key\n",
    "#         row += \",\"+str(getattr(FLAG,key))\n",
    "# row += \"\\n\"\n",
    "# header += \"\\n\"\n",
    "# if os.path.exists(\"/home/cmchang/new_CP_CNN/model.csv\"):\n",
    "#     with open(\"/home/cmchang/new_CP_CNN/model.csv\", \"a\") as myfile:\n",
    "#         myfile.write(row)\n",
    "# else:\n",
    "#     with open(\"/home/cmchang/new_CP_CNN/model.csv\", \"w\") as myfile:\n",
    "#         myfile.write(header)\n",
    "#         myfile.write(row)"
   ]
  },
  {
   "cell_type": "code",
   "execution_count": null,
   "metadata": {
    "collapsed": true
   },
   "outputs": [],
   "source": []
  },
  {
   "cell_type": "code",
   "execution_count": null,
   "metadata": {
    "collapsed": true
   },
   "outputs": [],
   "source": []
  },
  {
   "cell_type": "code",
   "execution_count": null,
   "metadata": {
    "collapsed": true
   },
   "outputs": [],
   "source": []
  },
  {
   "cell_type": "code",
   "execution_count": null,
   "metadata": {
    "collapsed": true
   },
   "outputs": [],
   "source": []
  }
 ],
 "metadata": {
  "kernelspec": {
   "display_name": "Python 3",
   "language": "python",
   "name": "python3"
  },
  "language_info": {
   "codemirror_mode": {
    "name": "ipython",
    "version": 3
   },
   "file_extension": ".py",
   "mimetype": "text/x-python",
   "name": "python",
   "nbconvert_exporter": "python",
   "pygments_lexer": "ipython3",
   "version": "3.5.2"
  }
 },
 "nbformat": 4,
 "nbformat_minor": 2
}
