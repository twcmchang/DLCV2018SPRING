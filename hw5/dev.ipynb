{
 "cells": [
  {
   "cell_type": "code",
   "execution_count": 1,
   "metadata": {},
   "outputs": [],
   "source": [
    "import os\n",
    "os.environ['CUDA_VISIBLE_DEVICES']=\"0\"\n",
    "%matplotlib inline"
   ]
  },
  {
   "cell_type": "code",
   "execution_count": 2,
   "metadata": {},
   "outputs": [],
   "source": [
    "# %load reader.py\n",
    "import numpy as np\n",
    "import skvideo.io\n",
    "import skimage.transform\n",
    "import csv\n",
    "import collections\n",
    "import os\n",
    "\n",
    "def readShortVideo(video_path, video_category, video_name, downsample_factor=12, rescale_factor=1):\n",
    "    '''\n",
    "    @param video_path: video directory\n",
    "    @param video_category: video category (see csv files)\n",
    "    @param video_name: video name (unique, see csv files)\n",
    "    @param downsample_factor: number of frames between each sampled frame (e.g., downsample_factor = 12 equals 2fps)\n",
    "    @param rescale_factor: float of scale factor (rescale the image if you want to reduce computations)\n",
    "\n",
    "    @return: (T, H, W, 3) ndarray, T indicates total sampled frames, H and W is heights and widths\n",
    "    '''\n",
    "\n",
    "    filepath = video_path + '/' + video_category\n",
    "    filename = [file for file in os.listdir(filepath) if file.startswith(video_name)]\n",
    "    video = os.path.join(filepath,filename[0])\n",
    "\n",
    "    videogen = skvideo.io.vreader(video)\n",
    "    frames = []\n",
    "    for frameIdx, frame in enumerate(videogen):\n",
    "        if frameIdx % downsample_factor == 0:\n",
    "            frame = skimage.transform.rescale(frame, rescale_factor, mode='constant', preserve_range=True).astype(np.uint8)\n",
    "            frames.append(frame)\n",
    "        else:\n",
    "            continue\n",
    "\n",
    "    return np.array(frames).astype(np.uint8)\n",
    "\n",
    "\n",
    "def getVideoList(data_path):\n",
    "    '''\n",
    "    @param data_path: ground-truth file path (csv files)\n",
    "\n",
    "    @return: ordered dictionary of videos and labels {'Action_labels', 'Nouns', 'End_times', 'Start_times', 'Video_category', 'Video_index', 'Video_name'}\n",
    "    '''\n",
    "    result = {}\n",
    "\n",
    "    with open (data_path) as f:\n",
    "        reader = csv.DictReader(f)\n",
    "        for row in reader:\n",
    "            for column, value in row.items():\n",
    "                result.setdefault(column,[]).append(value)\n",
    "\n",
    "    od = collections.OrderedDict(sorted(result.items()))\n",
    "    return od\n"
   ]
  },
  {
   "cell_type": "code",
   "execution_count": 3,
   "metadata": {},
   "outputs": [
    {
     "name": "stderr",
     "output_type": "stream",
     "text": [
      "/usr/local/lib/python3.5/dist-packages/h5py/__init__.py:36: FutureWarning: Conversion of the second argument of issubdtype from `float` to `np.floating` is deprecated. In future, it will be treated as `np.float64 == np.dtype(float).type`.\n",
      "  from ._conv import register_converters as _register_converters\n"
     ]
    }
   ],
   "source": [
    "# %load model.py\n",
    "import tensorflow as tf\n",
    "\n",
    "class Model(object):\n",
    "    def __init__(self, scope_name=\"\"):\n",
    "        super().__init__()\n",
    "        self.scope_name = scope_name\n",
    "        self.weight_decay = 0.0\n",
    "        self.para_dict = dict()\n",
    "    \n",
    "    def avg_pool_layer(self, bottom, name):\n",
    "        return tf.nn.avg_pool(bottom, ksize=[1, 2, 2, 1], strides=[1, 2, 2, 1], padding='SAME', name=name)\n",
    "\n",
    "    def max_pool_layer(self, bottom, name):\n",
    "        return tf.nn.max_pool(bottom, ksize=[1, 2, 2, 1], strides=[1, 2, 2, 1], padding='SAME', name=name)\n",
    "    \n",
    "    def dropout_layer(self, bottom, keep_prob, is_train):\n",
    "        return tf.cond(is_train, lambda: tf.nn.dropout(bottom, keep_prob=keep_prob),lambda:bottom)\n",
    "\n",
    "    def trans_conv_layer(self, bottom, output_shape, stride, name=None, shape=None):\n",
    "        if shape is not None:\n",
    "            conv_filter = self.get_conv_filter(shape=shape, name=name, with_bn=False)\n",
    "            conv_bias = self.get_bias(shape=shape[2], name=name)\n",
    "        elif name in self.data_dict.keys():\n",
    "            conv_filter = self.get_conv_filter(name=name, with_bn=False)\n",
    "            conv_bias = self.get_bias(name=name)\n",
    "        else:\n",
    "            print(\"Neither give a shape nor lack a pre-trained layer called %s\" % name)\n",
    "\n",
    "        self.para_dict[name] = [conv_filter, conv_bias]\n",
    "        self.weight_decay += tf.nn.l2_loss(conv_filter) + tf.nn.l2_loss(conv_bias)\n",
    "\n",
    "        conv = tf.nn.conv2d_transpose(bottom, conv_filter, output_shape, strides=[1, stride, stride, 1], padding=\"SAME\")\n",
    "        conv = tf.nn.bias_add(conv, conv_bias)\n",
    "\n",
    "        return conv\n",
    "\n",
    "    def conv_layer(self, bottom, name=None, shape=None):\n",
    "        if shape is not None:\n",
    "            conv_filter = tf.get_variable(shape=shape, initializer=tf.truncated_normal_initializer(mean=0, stddev=0.1), name=name+\"_W\", dtype=tf.float32)\n",
    "            conv_bias = tf.get_variable(shape=shape[2], initializer=tf.truncated_normal_initializer(mean=0, stddev=0.1), name=name+\"_b\", dtype=tf.float32)\n",
    "        elif name in self.data_dict.keys():\n",
    "            conv_filter = tf.get_variable(initializer=self.data_dict[name][0], name=name+\"_W\")\n",
    "            conv_bias = tf.get_variable(initializer=self.data_dict[name][1], name=name+\"_b\")\n",
    "        else:\n",
    "            print(\"Neither give a shape nor lack a pre-trained layer called %s\" % name)\n",
    "            return None\n",
    "        self.para_dict[name] = [conv_filter, conv_bias]\n",
    "        self.weight_decay += tf.nn.l2_loss(conv_filter) + tf.nn.l2_loss(conv_bias)\n",
    "\n",
    "        conv = tf.nn.conv2d(bottom, conv_filter, [1, 1, 1, 1], padding='SAME')\n",
    "        conv = tf.nn.bias_add(conv, conv_bias)\n",
    "        relu = tf.nn.relu(conv)\n",
    "        return relu\n",
    "    \n",
    "    def flatten_layer(self, bottom):\n",
    "        shape = bottom.get_shape().as_list()\n",
    "        dim = 1\n",
    "        for d in shape[1:]:\n",
    "            dim *= d\n",
    "        x = tf.reshape(bottom, [-1, dim])\n",
    "        return x\n",
    "    \n",
    "    def dense_layer(self, bottom, shape=None, name=None):\n",
    "        if shape is not None:\n",
    "            weights = tf.get_variable(shape=shape, initializer=tf.random_normal_initializer(mean=0, stddev=0.02), name=name+\"_W\", dtype=tf.float32)\n",
    "            biases = tf.get_variable(shape=shape[1], initializer=tf.constant_initializer(0.0), name=name+\"_b\", dtype=tf.float32)\n",
    "        elif name in self.data_dict.keys():\n",
    "            weights = tf.get_variable(initializer=self.data_dict[name][0], name=name+\"_W\")\n",
    "            biases = tf.get_variable(initializer=self.data_dict[name][1], name=name+\"_b\")\n",
    "        else:\n",
    "            print(\"Neither give a shape nor lack a pre-trained layer called %s\" % name)\n",
    "            return None\n",
    "        self.para_dict[name] = [weights, biases]\n",
    "        self.weight_decay += tf.nn.l2_loss(weights) + tf.nn.l2_loss(biases)\n",
    "\n",
    "        # Fully connected layer. Note that the '+' operation automatically broadcasts the biases.\n",
    "        fc = tf.matmul(bottom, weights) + biases\n",
    "        return fc"
   ]
  },
  {
   "cell_type": "code",
   "execution_count": 4,
   "metadata": {},
   "outputs": [],
   "source": [
    "# %load extractor.py\n",
    "import numpy as np\n",
    "import tensorflow as tf\n",
    "\n",
    "class Extractor(Model):\n",
    "    def __init__(self, shape=(224, 224, 3), scope_name=\"VGG16\"):\n",
    "        super().__init__()\n",
    "        # input information\n",
    "        self.H, self.W, self.C = shape\n",
    "        self.scope_name = scope_name\n",
    "\n",
    "        # parameter dictionary\n",
    "        self.para_dict = dict()\n",
    "        \n",
    "    def build(self, vgg16_npy_path):\n",
    "        \"\"\"\n",
    "        load pre-trained weights from path\n",
    "        :param vgg16_npy_path: file path of vgg16 pre-trained weights\n",
    "        \"\"\"\n",
    "\n",
    "        # input placeholder\n",
    "        self.x = tf.placeholder(tf.float32, [None, self.H, self.W, self.C])\n",
    "        self.is_train = tf.placeholder(tf.bool)\n",
    "        \n",
    "        # Convert RGB to BGR\n",
    "        red, green, blue = tf.split(axis=3, num_or_size_splits=3, value=self.x)\n",
    "        self.x = tf.concat(axis=3,\n",
    "                           values=[blue - 103.939,\n",
    "                                   green - 116.779,\n",
    "                                   red - 123.68,])\n",
    "        \n",
    "        assert self.x.get_shape().as_list()[1:] == [self.H, self.W, self.C]\n",
    "\n",
    "        # load pre-trained weights\n",
    "        if isinstance(vgg16_npy_path,dict):\n",
    "            self.data_dict = vgg16_npy_path\n",
    "            print(\"parameters loaded\")\n",
    "        else:\n",
    "            self.data_dict = np.load(vgg16_npy_path, encoding='latin1').item()\n",
    "            print(\"npy file loaded\")\n",
    "\n",
    "        ### pre-trained VGG-16 start ###\n",
    "        conv1_1 = self.conv_layer( self.x, \"conv1_1\")\n",
    "        conv1_2 = self.conv_layer(conv1_1, \"conv1_2\")\n",
    "        pool1 = self.max_pool_layer(conv1_2, \"pool1\")\n",
    "\n",
    "        conv2_1 = self.conv_layer(  pool1, \"conv2_1\")\n",
    "        conv2_2 = self.conv_layer(conv2_1, \"conv2_2\")\n",
    "        pool2 = self.max_pool_layer(conv2_2, \"pool2\")\n",
    "\n",
    "        conv3_1 = self.conv_layer(  pool2, \"conv3_1\")\n",
    "        conv3_2 = self.conv_layer(conv3_1, \"conv3_2\")\n",
    "        conv3_3 = self.conv_layer(conv3_2, \"conv3_3\")\n",
    "        pool3 = self.max_pool_layer(conv3_3, \"pool3\")\n",
    "\n",
    "        conv4_1 = self.conv_layer(  pool3, \"conv4_1\")\n",
    "        conv4_2 = self.conv_layer(conv4_1, \"conv4_2\")\n",
    "        conv4_3 = self.conv_layer(conv4_2, \"conv4_3\")\n",
    "        pool4   = self.max_pool_layer(conv4_3, \"pool4\")\n",
    "\n",
    "        conv5_1 = self.conv_layer(  pool4, \"conv5_1\")\n",
    "        conv5_2 = self.conv_layer(conv5_1, \"conv5_2\")\n",
    "        conv5_3 = self.conv_layer(conv5_2, \"conv5_3\")\n",
    "        pool5 = self.max_pool_layer(conv5_3, \"pool5\")\n",
    "        # flatten = tf.reduce_mean(conv5_3, [1,2])\n",
    "        ### pre-trained VGG-16 end ###\n",
    "        \n",
    "        flatten = self.flatten_layer(pool5)\n",
    "        self.output = flatten"
   ]
  },
  {
   "cell_type": "code",
   "execution_count": 5,
   "metadata": {},
   "outputs": [],
   "source": [
    "import numpy as np\n",
    "import pandas as pd\n",
    "import pickle"
   ]
  },
  {
   "cell_type": "code",
   "execution_count": 6,
   "metadata": {},
   "outputs": [],
   "source": [
    "video_path = \"HW5_data/TrimmedVideos/video/\"\n",
    "train_video_path = video_path + \"train/\"\n",
    "valid_video_path = video_path + \"valid/\""
   ]
  },
  {
   "cell_type": "code",
   "execution_count": 7,
   "metadata": {},
   "outputs": [],
   "source": [
    "train_list = getVideoList(\"HW5_data/TrimmedVideos/label/gt_train.csv\")\n",
    "valid_list = getVideoList(\"HW5_data/TrimmedVideos/label/gt_valid.csv\")"
   ]
  },
  {
   "cell_type": "code",
   "execution_count": 8,
   "metadata": {},
   "outputs": [],
   "source": [
    "dtrain = pd.DataFrame.from_dict(train_list)\n",
    "dvalid = pd.DataFrame.from_dict(valid_list)"
   ]
  },
  {
   "cell_type": "code",
   "execution_count": 9,
   "metadata": {},
   "outputs": [],
   "source": [
    "def one_hot_encoding(arr, num_classes):\n",
    "    res = np.zeros((arr.size, num_classes))\n",
    "    res[np.arange(arr.size),arr] = 1\n",
    "    return(res)"
   ]
  },
  {
   "cell_type": "code",
   "execution_count": 10,
   "metadata": {},
   "outputs": [],
   "source": [
    "def load_frame(pkl_file):\n",
    "    return pickle.load(open(pkl_file, \"rb\"))"
   ]
  },
  {
   "cell_type": "code",
   "execution_count": 11,
   "metadata": {},
   "outputs": [],
   "source": [
    "def load_aggregate_frame(pkl_file):\n",
    "    res = list()\n",
    "    codes = load_frame(pkl_file)\n",
    "    for i in range(len(codes)):\n",
    "        res.append(np.mean(codes[i], axis=0))\n",
    "    return np.array(res)"
   ]
  },
  {
   "cell_type": "code",
   "execution_count": 12,
   "metadata": {},
   "outputs": [],
   "source": [
    "def load_extract_video(video_path, df, model, filename):\n",
    "    print(\"===== read video =====\")\n",
    "    codes = list()\n",
    "    with tf.Session() as sess:\n",
    "        sess.run(tf.global_variables_initializer()) \n",
    "        for i in range(df.shape[0]):\n",
    "            print(i, end=\"\\r\")\n",
    "            video = readShortVideo(video_path=video_path,\n",
    "                                   video_category=df.iloc[i]['Video_category'],\n",
    "                                   video_name=df.iloc[i]['Video_name'],\n",
    "                                   downsample_factor=12,\n",
    "                                   rescale_factor=1)\n",
    "            \n",
    "            # extract features batch-wise\n",
    "            if video.shape[0] < 50:\n",
    "                tmp = sess.run(model.output, feed_dict={model.x:video})\n",
    "            else:\n",
    "                tmp = list()\n",
    "                for i in range(int(video.shape[0]/50)+1):\n",
    "                    st = 50*i\n",
    "                    ed = min(50*i+50, video.shape[0])\n",
    "                    tmp_video = video[st:ed,:]\n",
    "                    tmp.append(sess.run(model.output, feed_dict={model.x:tmp_video}))\n",
    "                tmp = np.concatenate(tmp, axis=0)\n",
    "            codes.append(tmp)\n",
    "    print('Done')\n",
    "    \n",
    "    print(\"===== save into %s =====\" % filename)\n",
    "    with open(filename, 'wb') as f:\n",
    "        pickle.dump(codes, f)"
   ]
  },
  {
   "cell_type": "markdown",
   "metadata": {},
   "source": [
    "# Q0. Extract "
   ]
  },
  {
   "cell_type": "code",
   "execution_count": null,
   "metadata": {},
   "outputs": [],
   "source": [
    "vgg16 = Extractor(shape=(240,320,3))\n",
    "vgg16.build(vgg16_npy_path=\"updated_keras_vgg16.npy\")"
   ]
  },
  {
   "cell_type": "code",
   "execution_count": null,
   "metadata": {},
   "outputs": [],
   "source": [
    "load_extract_video(video_path=train_video_path,df=dtrain, model=vgg16, filename='train_codes_full.pkl')"
   ]
  },
  {
   "cell_type": "code",
   "execution_count": null,
   "metadata": {},
   "outputs": [],
   "source": [
    "load_extract_video(video_path=valid_video_path,df=dvalid, model=vgg16, filename='valid_codes_full.pkl')"
   ]
  },
  {
   "cell_type": "code",
   "execution_count": null,
   "metadata": {},
   "outputs": [],
   "source": []
  },
  {
   "cell_type": "markdown",
   "metadata": {},
   "source": [
    "# Q1. Model "
   ]
  },
  {
   "cell_type": "code",
   "execution_count": 13,
   "metadata": {},
   "outputs": [],
   "source": [
    "Xtrain = load_aggregate_frame(\"train_codes_full.pkl\")\n",
    "Xtest  = load_aggregate_frame(\"valid_codes_full.pkl\")"
   ]
  },
  {
   "cell_type": "code",
   "execution_count": 14,
   "metadata": {},
   "outputs": [
    {
     "data": {
      "text/plain": [
       "(3236, 40960)"
      ]
     },
     "execution_count": 14,
     "metadata": {},
     "output_type": "execute_result"
    }
   ],
   "source": [
    "Xtrain.shape"
   ]
  },
  {
   "cell_type": "code",
   "execution_count": 15,
   "metadata": {},
   "outputs": [
    {
     "data": {
      "text/plain": [
       "(517, 40960)"
      ]
     },
     "execution_count": 15,
     "metadata": {},
     "output_type": "execute_result"
    }
   ],
   "source": [
    "Xtest.shape"
   ]
  },
  {
   "cell_type": "code",
   "execution_count": 16,
   "metadata": {},
   "outputs": [],
   "source": [
    "Ytrain = np.array(dtrain.Action_labels).astype('int32')\n",
    "Ytest  = np.array(dvalid.Action_labels).astype('int32')\n",
    "Ytrain = one_hot_encoding(Ytrain, 11)\n",
    "Ytest = one_hot_encoding(Ytest, 11)"
   ]
  },
  {
   "cell_type": "code",
   "execution_count": 17,
   "metadata": {},
   "outputs": [
    {
     "data": {
      "text/plain": [
       "(3236, 11)"
      ]
     },
     "execution_count": 17,
     "metadata": {},
     "output_type": "execute_result"
    }
   ],
   "source": [
    "Ytrain.shape"
   ]
  },
  {
   "cell_type": "code",
   "execution_count": 18,
   "metadata": {},
   "outputs": [
    {
     "data": {
      "text/plain": [
       "(517, 11)"
      ]
     },
     "execution_count": 18,
     "metadata": {},
     "output_type": "execute_result"
    }
   ],
   "source": [
    "Ytest.shape"
   ]
  },
  {
   "cell_type": "code",
   "execution_count": 19,
   "metadata": {},
   "outputs": [],
   "source": [
    "class MQ1(Model):\n",
    "    def __init__(self, scope_name=\"\"):\n",
    "        super().__init__()\n",
    "        self.scope_name = scope_name\n",
    "        \n",
    "    def build(self, input_dim, output_dim):\n",
    "        with tf.variable_scope(name_or_scope=self.scope_name) as scope:\n",
    "            self.x = tf.placeholder(tf.float32, shape=[None, input_dim], name=\"input\")\n",
    "            self.y = tf.placeholder(tf.int32, shape=[None, output_dim], name=\"output\")\n",
    "            self.is_train = tf.placeholder(tf.bool)\n",
    "        \n",
    "            fc1 = self.dense_layer(bottom=self.x, name=\"fc1\", shape=[input_dim, 2048])\n",
    "            fc1 = tf.contrib.layers.batch_norm(fc1, is_training=self.is_train, scope=\"bn1\", decay=0.9, epsilon=1e-5, updates_collections=None, scale=True)\n",
    "            fc1 = tf.nn.relu(fc1)\n",
    "            \n",
    "            fc2 = self.dense_layer(bottom=fc1, name=\"fc2\", shape=[2048, 768])\n",
    "            fc2 = tf.contrib.layers.batch_norm(fc2, is_training=self.is_train, scope=\"bn2\", decay=0.9, epsilon=1e-5, updates_collections=None, scale=True)\n",
    "            fc2 = tf.nn.relu(fc2)\n",
    "            \n",
    "            self.output = fc2\n",
    "            \n",
    "            self.logits = self.dense_layer(bottom=fc2, name=\"logits\", shape=[768, output_dim])\n",
    "            self.pred = tf.argmax(self.logits, axis=1, name=\"pred\")\n",
    "            \n",
    "            self.true = tf.argmax(self.y, axis=1, name=\"true\")\n",
    "            self.loss = tf.reduce_mean(tf.nn.softmax_cross_entropy_with_logits(labels=self.y, logits=self.logits, name='loss'))\n",
    "\n",
    "            self.accuracy = tf.reduce_mean(tf.cast(tf.equal(x=self.pred, y=self.true), tf.float32))"
   ]
  },
  {
   "cell_type": "code",
   "execution_count": 20,
   "metadata": {},
   "outputs": [],
   "source": [
    "scope_name = \"Q1\""
   ]
  },
  {
   "cell_type": "code",
   "execution_count": 21,
   "metadata": {},
   "outputs": [],
   "source": [
    "model = MQ1(scope_name=scope_name)\n",
    "model.build(input_dim=Xtrain.shape[1], output_dim=Ytrain.shape[1])"
   ]
  },
  {
   "cell_type": "code",
   "execution_count": 22,
   "metadata": {},
   "outputs": [],
   "source": [
    "FLAG_save_dir = 'save_Q1/'\n",
    "FLAG_lr = 3e-5"
   ]
  },
  {
   "cell_type": "code",
   "execution_count": null,
   "metadata": {
    "scrolled": true
   },
   "outputs": [],
   "source": [
    "import os\n",
    "import time\n",
    "import argparse\n",
    "import numpy as np\n",
    "import tensorflow as tf\n",
    "import matplotlib.pyplot as plt\n",
    "\n",
    "def initialize_uninitialized(sess):\n",
    "    global_vars = tf.global_variables()\n",
    "    is_not_initialized = sess.run([tf.is_variable_initialized(var) for var in global_vars])\n",
    "    not_initialized_vars = [v for (v,f) in zip(global_vars, is_not_initialized) if not f]\n",
    "    if len(not_initialized_vars): \n",
    "            sess.run(tf.variables_initializer(not_initialized_vars))\n",
    "\n",
    "with tf.Session() as sess:\n",
    "    sess.run(tf.global_variables_initializer())\n",
    "\n",
    "    # hyper parameters\n",
    "    batch_size = 32\n",
    "    epoch = 30\n",
    "    early_stop_patience = 5\n",
    "    min_delta = 0.0001\n",
    "    opt_type = 'adam'\n",
    "\n",
    "    # recorder\n",
    "    epoch_counter = 0\n",
    "    history = list()\n",
    "    \n",
    "    train_vars = list()\n",
    "    for var in tf.trainable_variables():\n",
    "        if model.scope_name in var.name:\n",
    "            train_vars.append(var)\n",
    "            \n",
    "    # optimizer\n",
    "    learning_rate = FLAG_lr\n",
    "    train_op = tf.train.AdamOptimizer(learning_rate=learning_rate, beta1=0.5).minimize(model.loss, var_list=train_vars)\n",
    "\n",
    "    # re-initialize\n",
    "    initialize_uninitialized(sess)\n",
    "\n",
    "    # reset due to adding a new task\n",
    "    patience_counter = 0\n",
    "    current_best_val_accu = 0\n",
    "    \n",
    "    saver = tf.train.Saver(tf.global_variables(), max_to_keep=1)\n",
    "    checkpoint_path = os.path.join(FLAG_save_dir, 'model.ckpt')\n",
    "\n",
    "    # optimize when the aggregated obj\n",
    "    while(patience_counter < early_stop_patience and epoch_counter < epoch):\n",
    "\n",
    "        # start training\n",
    "        stime = time.time()\n",
    "\n",
    "        train_loss, train_accu = 0.0, 0.0    \n",
    "        for i in range(int(Xtrain.shape[0]/batch_size)):\n",
    "            st = i*batch_size\n",
    "            ed = (i+1)*batch_size\n",
    "            loss, accu , _, logits = sess.run([model.loss, model.accuracy, model.logits, train_op],\n",
    "                                feed_dict={model.x: Xtrain[st:ed],\n",
    "                                            model.y: Ytrain[st:ed],\n",
    "                                          model.is_train:True})\n",
    "            train_loss += loss\n",
    "            train_accu += accu\n",
    "        train_loss = train_loss/(Xtrain.shape[0]/batch_size)\n",
    "        train_accu = train_accu/(Xtrain.shape[0]/batch_size)\n",
    "        \n",
    "        val_loss, val_accu = 0.0, 0.0\n",
    "        for i in range(int(Xtest.shape[0]/batch_size)):\n",
    "            st = i*batch_size\n",
    "            ed = (i+1)*batch_size\n",
    "            loss, accu , logits = sess.run([model.loss, model.accuracy, model.logits],\n",
    "                                feed_dict={model.x: Xtest[st:ed],\n",
    "                                            model.y: Ytest[st:ed],\n",
    "                                          model.is_train:False})\n",
    "            val_loss += loss\n",
    "            val_accu += accu\n",
    "        val_loss = val_loss/(Xtest.shape[0]/batch_size)\n",
    "        val_accu = val_accu/(Xtest.shape[0]/batch_size)\n",
    "        \n",
    "        print(\"Epoch %s (%s), %s sec >> train loss: %.4f, train accu: %.4f, val loss: %.4f, val accu: %.4f\" % (epoch_counter, patience_counter, round(time.time()-stime,2), train_loss, train_accu, val_loss, val_accu))\n",
    "        history.append([train_loss, train_accu, val_loss, val_accu])\n",
    "        \n",
    "        # early stopping check\n",
    "        if (val_accu - current_best_val_accu) > min_delta:\n",
    "            current_best_val_accu = val_accu\n",
    "            patience_counter = 0\n",
    "            saver.save(sess, checkpoint_path, global_step=epoch_counter)\n",
    "            print(\"save in %s\" % checkpoint_path)\n",
    "            para_dict = sess.run(model.para_dict)\n",
    "            np.save(os.path.join(FLAG_save_dir, \"para_dict.npy\"), para_dict)\n",
    "            print(\"save in %s\" % os.path.join(FLAG_save_dir, \"para_dict.npy\"))\n",
    "        else:\n",
    "            patience_counter += 1\n",
    "\n",
    "        # shuffle Xtrain and Ytrain in the next epoch\n",
    "        idx = np.random.permutation(Xtrain.shape[0])\n",
    "        Xtrain, Ytrain = Xtrain[idx,:], Ytrain[idx,:]\n",
    "\n",
    "        # epoch end\n",
    "        epoch_counter += 1\n"
   ]
  },
  {
   "cell_type": "code",
   "execution_count": null,
   "metadata": {},
   "outputs": [],
   "source": [
    "df = pd.DataFrame(history)\n",
    "df.columns = ['train_loss', 'train_accu', 'val_loss', 'val_accu']\n",
    "df[['train_loss', 'val_loss']].plot()\n",
    "plt.savefig(os.path.join(FLAG_save_dir, 'loss.png'))\n",
    "df[['train_accu', 'val_accu']].plot()\n",
    "plt.savefig(os.path.join(FLAG_save_dir, 'accu.png'))"
   ]
  },
  {
   "cell_type": "code",
   "execution_count": null,
   "metadata": {},
   "outputs": [],
   "source": [
    "FLAG_save_dir = 'save_Q1/'"
   ]
  },
  {
   "cell_type": "code",
   "execution_count": null,
   "metadata": {},
   "outputs": [],
   "source": [
    "model = MQ1(scope_name=scope_name)\n",
    "model.build(input_dim=Xtrain.shape[1], output_dim=Ytrain.shape[1])"
   ]
  },
  {
   "cell_type": "code",
   "execution_count": 23,
   "metadata": {},
   "outputs": [],
   "source": [
    "import matplotlib.pyplot as plt"
   ]
  },
  {
   "cell_type": "code",
   "execution_count": 25,
   "metadata": {},
   "outputs": [
    {
     "name": "stdout",
     "output_type": "stream",
     "text": [
      "INFO:tensorflow:Restoring parameters from save_Q1/model.ckpt-12\n",
      "Model restored save_Q1/model.ckpt-12\n",
      "Initialized\n",
      "save p1_valid.txt\n",
      "save cnn_tsne.png\n"
     ]
    },
    {
     "data": {
      "image/png": "[encoded data removed]",
      "text/plain": [
       "<matplotlib.figure.Figure at 0x7fdf100eb588>"
      ]
     },
     "metadata": {},
     "output_type": "display_data"
    },
    {
     "data": {
      "text/plain": [
       "<matplotlib.figure.Figure at 0x7fdf100d62e8>"
      ]
     },
     "metadata": {},
     "output_type": "display_data"
    }
   ],
   "source": [
    "def initialize_uninitialized(sess):\n",
    "    global_vars = tf.global_variables()\n",
    "    is_not_initialized = sess.run([tf.is_variable_initialized(var) for var in global_vars])\n",
    "    not_initialized_vars = [v for (v,f) in zip(global_vars, is_not_initialized) if not f]\n",
    "    if len(not_initialized_vars): \n",
    "            sess.run(tf.variables_initializer(not_initialized_vars))\n",
    "\n",
    "with tf.Session() as sess:\n",
    "    if FLAG_save_dir is not None:\n",
    "        sess.run(tf.global_variables_initializer())\n",
    "        saver = tf.train.Saver()\n",
    "        ckpt = tf.train.get_checkpoint_state(FLAG_save_dir)\n",
    "\n",
    "        if ckpt and ckpt.model_checkpoint_path:\n",
    "            saver.restore(sess, ckpt.model_checkpoint_path)\n",
    "            print(\"Model restored %s\" % ckpt.model_checkpoint_path)\n",
    "            sess.run(tf.global_variables())\n",
    "        else:\n",
    "            print(\"No model checkpoint in %s\" % FLAG_save_dir)\n",
    "    else:\n",
    "        sess.run(tf.global_variables_initializer())\n",
    "        sess.run(tf.global_variables())\n",
    "    print(\"Initialized\")\n",
    "\n",
    "    pred, cnn_output = sess.run([model.pred, model.output],\n",
    "                        feed_dict={model.x: Xtest,\n",
    "                                  model.is_train:False})\n",
    "    \n",
    "    print(\"save p1_valid.txt\")\n",
    "    np.savetxt(X=pred.astype(int), fname='p1_valid.txt',fmt='%s')\n",
    "    \n",
    "    from sklearn.manifold import TSNE\n",
    "    cnn_tsne = TSNE(n_components=2, perplexity=30.0, random_state=5566).fit_transform(cnn_output)\n",
    "    \n",
    "    print(\"save cnn_tsne.png\")\n",
    "    labels = np.array(dvalid.Action_labels).astype('int32')\n",
    "    plt.figure(0)\n",
    "    for i in range(Ytest.shape[1]):\n",
    "        xplot = cnn_tsne[np.where(labels==i)[0]]\n",
    "        plt.scatter(xplot[:,0], xplot[:,1], label=i)\n",
    "    plt.legend()\n",
    "    plt.title(\"CNN-based features\")\n",
    "    plt.xlabel(\"tSNE-1\")\n",
    "    plt.ylabel(\"tSNE-2\")\n",
    "    plt.tight_layout()\n",
    "    plt.show()\n",
    "    plt.tight_layout()\n",
    "    plt.savefig('cnn_tsne.png')"
   ]
  },
  {
   "cell_type": "markdown",
   "metadata": {},
   "source": [
    "# Q2 modeling "
   ]
  },
  {
   "cell_type": "code",
   "execution_count": 13,
   "metadata": {},
   "outputs": [],
   "source": [
    "def pad_feature_maxlen(feature_list, max_len):\n",
    "    pad_feature_list = list()\n",
    "    seq_end_index = list()\n",
    "    for feature in feature_list:\n",
    "        feature_len = feature.shape[0]\n",
    "        if feature_len < max_len:\n",
    "            padded = np.zeros([max_len-feature_len, feature.shape[1]])\n",
    "            seq_end_index.append(feature_len) # due to zero-indexing in Python\n",
    "            pad_feature_list.append(np.concatenate([feature, padded]))\n",
    "        else:\n",
    "            sample_index = np.linspace(0, feature_len-1, num=max_len, dtype=np.int32)\n",
    "            seq_end_index.append(max_len) # due to zero-indexing in Python\n",
    "            pad_feature_list.append(feature[sample_index,:])\n",
    "    \n",
    "    return np.array(pad_feature_list), np.array(seq_end_index)"
   ]
  },
  {
   "cell_type": "code",
   "execution_count": 14,
   "metadata": {},
   "outputs": [],
   "source": [
    "xtrain = load_frame(\"train_codes_full.pkl\")\n",
    "xtest = load_frame(\"valid_codes_full.pkl\")"
   ]
  },
  {
   "cell_type": "code",
   "execution_count": 15,
   "metadata": {},
   "outputs": [],
   "source": [
    "class MQ2(Model):\n",
    "    def __init__(self, scope_name=\"\"):\n",
    "        super().__init__()\n",
    "        self.scope_name = scope_name\n",
    "        \n",
    "    def build(self, lstm_units, max_seq_len, input_dim, output_dim):\n",
    "        with tf.variable_scope(name_or_scope=self.scope_name) as scope:\n",
    "            self.x = tf.placeholder(tf.float32, shape=[None, max_seq_len, input_dim], name='input')\n",
    "            self.y = tf.placeholder(tf.int32, shape=[None, output_dim], name='output')\n",
    "            self.seq_end_index = tf.placeholder(tf.int32, shape=[None], name='seq_end_index')\n",
    "            self.is_train = tf.placeholder(tf.bool)\n",
    "            \n",
    "            # get batch size\n",
    "            self.input_dim = input_dim\n",
    "            self.output_dim = output_dim\n",
    "            self.max_seq_len = max_seq_len\n",
    "            self.lstm_units = lstm_units\n",
    "            self.batch_size = tf.shape(self.x)[0]\n",
    "\n",
    "            # stacked rnn cell\n",
    "            cells = [tf.contrib.rnn.BasicLSTMCell(num_units=n, forget_bias=1.0) for n in lstm_units]\n",
    "\n",
    "            stacked_rnn_cell = tf.contrib.rnn.MultiRNNCell(cells)\n",
    "      \n",
    "            # dynamic_rnn\n",
    "            step_rnn_output, step_rnn_state = tf.nn.dynamic_rnn(stacked_rnn_cell,\n",
    "                                                                self.x,\n",
    "                                                                sequence_length=self.seq_end_index,\n",
    "                                                                dtype=tf.float32)\n",
    "            # shape meaning: batch, step, feature\n",
    "            print(step_rnn_output.get_shape().as_list())\n",
    "            \n",
    "            # make output in shape, step x batch, feature \n",
    "            step_rnn_output = tf.reshape(step_rnn_output, [-1, self.lstm_units[1]])\n",
    "            print(step_rnn_output.get_shape().as_list())\n",
    "            \n",
    "            # select the output at step*50*i + seq_end_index[i]\n",
    "            output_index = tf.range(0, self.batch_size)*self.max_seq_len + self.seq_end_index - 1\n",
    "            \n",
    "            #for i in seq_end_index\n",
    "            self.rnn_output = tf.gather(step_rnn_output, output_index)\n",
    "            print(self.rnn_output.get_shape().as_list())\n",
    "            \n",
    "            self.rnn_output = self.dropout_layer(bottom=self.rnn_output, keep_prob=0.8, is_train=self.is_train)\n",
    "            \n",
    "            fc1 = self.dense_layer(bottom=self.rnn_output, name=\"fc1\", shape=[self.lstm_units[-1], 512])\n",
    "            fc1 = tf.contrib.layers.batch_norm(fc1, is_training=self.is_train, scope=\"bn1\", decay=0.9, epsilon=1e-5, updates_collections=None, scale=True)\n",
    "            fc1 = tf.nn.relu(fc1)\n",
    "            \n",
    "            self.logits = self.dense_layer(bottom=fc1, name='logits', shape=[512, self.output_dim])\n",
    "            self.loss = tf.reduce_mean(tf.nn.softmax_cross_entropy_with_logits(labels=self.y, logits=self.logits, name='loss'))\n",
    "            \n",
    "            \n",
    "            self.pred = tf.argmax(self.logits, axis=1, name=\"pred\")\n",
    "            self.true = tf.argmax(self.y, axis=1, name=\"true\")\n",
    "            self.accuracy = tf.reduce_mean(tf.cast(tf.equal(x=self.pred, y=self.true), tf.float32))"
   ]
  },
  {
   "cell_type": "code",
   "execution_count": 16,
   "metadata": {},
   "outputs": [],
   "source": [
    "ytrain = np.array(dtrain.Action_labels).astype('int32')\n",
    "ytest  = np.array(dvalid.Action_labels).astype('int32')"
   ]
  },
  {
   "cell_type": "code",
   "execution_count": 17,
   "metadata": {},
   "outputs": [],
   "source": [
    "Ytrain = one_hot_encoding(ytrain, 11)\n",
    "Ytest = one_hot_encoding(ytest, 11)"
   ]
  },
  {
   "cell_type": "code",
   "execution_count": 18,
   "metadata": {},
   "outputs": [],
   "source": [
    "FLAG_save_dir = 'save_Q2/'\n",
    "FLAG_lr = 5e-5"
   ]
  },
  {
   "cell_type": "code",
   "execution_count": 19,
   "metadata": {},
   "outputs": [],
   "source": [
    "scope_name = \"M2\""
   ]
  },
  {
   "cell_type": "code",
   "execution_count": 20,
   "metadata": {
    "scrolled": true
   },
   "outputs": [
    {
     "name": "stdout",
     "output_type": "stream",
     "text": [
      "[None, 25, 1024]\n",
      "[None, 1024]\n",
      "[None, 1024]\n"
     ]
    }
   ],
   "source": [
    "model = MQ2(scope_name=scope_name)\n",
    "model.build(lstm_units=[1024, 1024], max_seq_len=25, input_dim= 40960, output_dim=11)"
   ]
  },
  {
   "cell_type": "code",
   "execution_count": null,
   "metadata": {
    "scrolled": true
   },
   "outputs": [],
   "source": [
    "import os\n",
    "import time\n",
    "import argparse\n",
    "import numpy as np\n",
    "import tensorflow as tf\n",
    "\n",
    "def initialize_uninitialized(sess):\n",
    "    global_vars = tf.global_variables()\n",
    "    is_not_initialized = sess.run([tf.is_variable_initialized(var) for var in global_vars])\n",
    "    not_initialized_vars = [v for (v,f) in zip(global_vars, is_not_initialized) if not f]\n",
    "    if len(not_initialized_vars): \n",
    "            sess.run(tf.variables_initializer(not_initialized_vars))\n",
    "\n",
    "with tf.Session() as sess:\n",
    "    sess.run(tf.global_variables_initializer())\n",
    "\n",
    "    # hyper parameters\n",
    "    batch_size = 32\n",
    "    epoch = 50\n",
    "    early_stop_patience = 10\n",
    "    min_delta = 0.0001\n",
    "    opt_type = 'adam'\n",
    "\n",
    "    # recorder\n",
    "    epoch_counter = 0\n",
    "    history = list()\n",
    "\n",
    "    \n",
    "    train_vars = list()\n",
    "    for var in tf.trainable_variables():\n",
    "        if model.scope_name in var.name:\n",
    "            train_vars.append(var)\n",
    "    \n",
    "    # optimizer\n",
    "    learning_rate = FLAG_lr\n",
    "    train_op = tf.train.AdamOptimizer(learning_rate=learning_rate, beta1=0.5).minimize(model.loss, var_list=train_vars)\n",
    "\n",
    "    # re-initialize\n",
    "    initialize_uninitialized(sess)\n",
    "\n",
    "    # reset due to adding a new task\n",
    "    patience_counter = 0\n",
    "    current_best_val_accu = 0\n",
    "    \n",
    "    saver = tf.train.Saver(tf.global_variables(), max_to_keep=1)\n",
    "    checkpoint_path = os.path.join(FLAG_save_dir, 'model.ckpt')\n",
    "\n",
    "    # optimize when the aggregated obj\n",
    "    while(patience_counter < early_stop_patience and epoch_counter < epoch):\n",
    "\n",
    "        # start training\n",
    "        stime = time.time()\n",
    "\n",
    "        train_loss, train_accu = 0.0, 0.0    \n",
    "        for i in range(int(len(xtrain)/batch_size)):\n",
    "            st = i*batch_size\n",
    "            ed = (i+1)*batch_size\n",
    "            Xtrain, Xtrain_end_index = pad_feature_maxlen(xtrain[st:ed], max_len=model.max_seq_len)\n",
    "            \n",
    "            # process R\n",
    "            _, loss, accu , logits = sess.run([train_op, model.loss, model.accuracy, model.logits],\n",
    "                                feed_dict={model.x: Xtrain,\n",
    "                                            model.y: Ytrain[st:ed],\n",
    "                                           model.seq_end_index: Xtrain_end_index,\n",
    "                                          model.is_train:True})\n",
    "            train_loss += loss\n",
    "            train_accu += accu\n",
    "        train_loss = train_loss/(len(xtrain)/batch_size)\n",
    "        train_accu = train_accu/(len(xtrain)/batch_size)\n",
    "        \n",
    "        val_loss, val_accu = 0.0, 0.0\n",
    "        for i in range(int(len(xtest)/batch_size)):\n",
    "            st = i*batch_size\n",
    "            ed = (i+1)*batch_size\n",
    "            Xtest, Xtest_end_index = pad_feature_maxlen(xtest[st:ed], max_len=model.max_seq_len)\n",
    "            loss, accu , logits = sess.run([model.loss, model.accuracy, model.logits],\n",
    "                                feed_dict={model.x: Xtest,\n",
    "                                            model.y: Ytest[st:ed],\n",
    "                                           model.seq_end_index: Xtest_end_index,\n",
    "                                          model.is_train:False})\n",
    "            val_loss += loss\n",
    "            val_accu += accu\n",
    "        val_loss = val_loss/(len(xtest)/batch_size)\n",
    "        val_accu = val_accu/(len(xtest)/batch_size)\n",
    "        \n",
    "        print(\"Epoch %s (%s), %s sec >> train loss: %.4f, train accu: %.4f, val loss: %.4f, val accu: %.4f\" % (epoch_counter, patience_counter, round(time.time()-stime,2), train_loss, train_accu, val_loss, val_accu))\n",
    "        history.append([train_loss, train_accu, val_loss, val_accu])\n",
    "        \n",
    "        # early stopping check\n",
    "        if (val_accu - current_best_val_accu) > min_delta:\n",
    "            current_best_val_accu = val_accu\n",
    "            patience_counter = 0\n",
    "            saver.save(sess, checkpoint_path, global_step=epoch_counter)\n",
    "            print(\"save in %s\" % checkpoint_path)\n",
    "            para_dict = sess.run(model.para_dict)\n",
    "            np.save(os.path.join(FLAG_save_dir, \"para_dict.npy\"), para_dict)\n",
    "            print(\"save in %s\" % os.path.join(FLAG_save_dir, \"para_dict.npy\"))\n",
    "        else:\n",
    "            patience_counter += 1\n",
    "\n",
    "        # shuffle Xtrain and Ytrain in the next epoch\n",
    "        #idx = np.random.permutation(Xtrain.shape[0])\n",
    "        #Xtrain, Xtrain_end_index, Ytrain = Xtrain[idx,:], Xtrain_end_index[idx], Ytrain[idx,:]\n",
    "\n",
    "        # epoch end\n",
    "        epoch_counter += 1\n",
    "\n",
    "    FLAG_optimizer = opt_type\n",
    "    FLAG_lr = learning_rate\n",
    "    FLAG_batch_size = batch_size\n",
    "    FLAG_epoch_end = epoch_counter\n",
    "    FLAG_val_accu = current_best_val_accu\n"
   ]
  },
  {
   "cell_type": "code",
   "execution_count": null,
   "metadata": {},
   "outputs": [],
   "source": [
    "import matplotlib.pyplot as plt"
   ]
  },
  {
   "cell_type": "code",
   "execution_count": null,
   "metadata": {},
   "outputs": [],
   "source": [
    "df = pd.DataFrame(history)\n",
    "df.columns = ['train_loss', 'train_accu', 'val_loss', 'val_accu']\n",
    "df[['train_loss', 'val_loss']].plot()\n",
    "plt.savefig(os.path.join(FLAG_save_dir, 'loss.png'))\n",
    "df[['train_accu', 'val_accu']].plot()\n",
    "plt.savefig(os.path.join(FLAG_save_dir, 'accu.png'))"
   ]
  },
  {
   "cell_type": "code",
   "execution_count": null,
   "metadata": {},
   "outputs": [],
   "source": []
  },
  {
   "cell_type": "code",
   "execution_count": 21,
   "metadata": {},
   "outputs": [
    {
     "name": "stdout",
     "output_type": "stream",
     "text": [
      "INFO:tensorflow:Restoring parameters from save_Q2/model.ckpt-5\n",
      "Model restored save_Q2/model.ckpt-5\n",
      "Initialized\n"
     ]
    }
   ],
   "source": [
    "def initialize_uninitialized(sess):\n",
    "    global_vars = tf.global_variables()\n",
    "    is_not_initialized = sess.run([tf.is_variable_initialized(var) for var in global_vars])\n",
    "    not_initialized_vars = [v for (v,f) in zip(global_vars, is_not_initialized) if not f]\n",
    "    if len(not_initialized_vars): \n",
    "            sess.run(tf.variables_initializer(not_initialized_vars))\n",
    "\n",
    "with tf.Session() as sess:\n",
    "    if FLAG_save_dir is not None:\n",
    "        sess.run(tf.global_variables_initializer())\n",
    "        saver = tf.train.Saver()\n",
    "        ckpt = tf.train.get_checkpoint_state(FLAG_save_dir)\n",
    "\n",
    "        if ckpt and ckpt.model_checkpoint_path:\n",
    "            saver.restore(sess, ckpt.model_checkpoint_path)\n",
    "            print(\"Model restored %s\" % ckpt.model_checkpoint_path)\n",
    "            sess.run(tf.global_variables())\n",
    "        else:\n",
    "            print(\"No model checkpoint in %s\" % FLAG_save_dir)\n",
    "    else:\n",
    "        sess.run(tf.global_variables_initializer())\n",
    "        sess.run(tf.global_variables())\n",
    "    print(\"Initialized\")\n",
    "\n",
    "\n",
    "    Xtest, Xtest_end_index = pad_feature_maxlen(xtest, max_len=model.max_seq_len)\n",
    "    pred, rnn_output = sess.run([model.pred, model.rnn_output],\n",
    "                        feed_dict={model.x: Xtest,\n",
    "                                   model.seq_end_index: Xtest_end_index,\n",
    "                                  model.is_train:False})\n"
   ]
  },
  {
   "cell_type": "code",
   "execution_count": 22,
   "metadata": {},
   "outputs": [
    {
     "name": "stdout",
     "output_type": "stream",
     "text": [
      "save p2_result.txt\n"
     ]
    }
   ],
   "source": [
    "print(\"save p2_result.txt\")\n",
    "np.savetxt(X=pred.astype(int), fname='p2_result.txt',fmt='%s')"
   ]
  },
  {
   "cell_type": "code",
   "execution_count": 35,
   "metadata": {},
   "outputs": [],
   "source": [
    "from sklearn.manifold import TSNE\n",
    "rnn_tsne = TSNE(n_components=2, perplexity=30.0, random_state=5566).fit_transform(rnn_output)"
   ]
  },
  {
   "cell_type": "code",
   "execution_count": 36,
   "metadata": {},
   "outputs": [
    {
     "name": "stdout",
     "output_type": "stream",
     "text": [
      "save rnn_tsne.png\n"
     ]
    },
    {
     "data": {
      "image/png": "[encoded data removed]",
      "text/plain": [
       "<matplotlib.figure.Figure at 0x7f5dac10a630>"
      ]
     },
     "metadata": {},
     "output_type": "display_data"
    },
    {
     "data": {
      "text/plain": [
       "<matplotlib.figure.Figure at 0x7f5f240ebdd8>"
      ]
     },
     "metadata": {},
     "output_type": "display_data"
    }
   ],
   "source": [
    "import matplotlib.pyplot as plt\n",
    "print(\"save rnn_tsne.png\")\n",
    "labels = np.array(dvalid.Action_labels).astype('int32')\n",
    "plt.figure(0)\n",
    "for i in range(Ytest.shape[1]):\n",
    "    xplot = rnn_tsne[np.where(labels==i)[0]]\n",
    "    plt.scatter(xplot[:,0], xplot[:,1], label=i)\n",
    "plt.legend()\n",
    "plt.title(\"RNN-based features\")\n",
    "plt.xlabel(\"tSNE-1\")\n",
    "plt.ylabel(\"tSNE-2\")\n",
    "plt.tight_layout()\n",
    "plt.show()\n",
    "plt.savefig('rnn_tsne.png')"
   ]
  },
  {
   "cell_type": "code",
   "execution_count": null,
   "metadata": {},
   "outputs": [],
   "source": []
  }
 ],
 "metadata": {
  "kernelspec": {
   "display_name": "Python 3",
   "language": "python",
   "name": "python3"
  },
  "language_info": {
   "codemirror_mode": {
    "name": "ipython",
    "version": 3
   },
   "file_extension": ".py",
   "mimetype": "text/x-python",
   "name": "python",
   "nbconvert_exporter": "python",
   "pygments_lexer": "ipython3",
   "version": "3.5.2"
  }
 },
 "nbformat": 4,
 "nbformat_minor": 2
}
